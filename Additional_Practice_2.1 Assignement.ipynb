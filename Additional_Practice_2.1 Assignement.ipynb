{
 "cells": [
  {
   "cell_type": "code",
   "execution_count": 24,
   "metadata": {},
   "outputs": [
    {
     "name": "stdout",
     "output_type": "stream",
     "text": [
      "acadgildacadgildacadgildacadgildacadgild\n"
     ]
    }
   ],
   "source": [
    "# 1) The function \"echo_name\" takes 2 parameters: a string value, \"name1\"and an integer value, \"echo_int\". \n",
    "# It returns a string that is a concatenation of \"echo_int\" copies of \"name1\".\n",
    "\n",
    "\n",
    "echo_name = (lambda x, y: x*y)\n",
    "result = echo_name (\"acadgild\",5)\n",
    "print(result)"
   ]
  },
  {
   "cell_type": "code",
   "execution_count": 23,
   "metadata": {},
   "outputs": [
    {
     "name": "stdout",
     "output_type": "stream",
     "text": [
      "[120.56, 79.7, 117.14, 118.03999999999999]\n"
     ]
    }
   ],
   "source": [
    "#2) Convert temperature in Celsius to Fahrenheit using map() and lambda functions\n",
    "# Sample input\n",
    "# Celsius = [49.2, 26.5, 47.3, 47.8]\n",
    "# Expected Output\n",
    "# [120.56, 79.7, 117.14, 118.03999999999999]\n",
    "\n",
    "Celsius = [49.2, 26.5, 47.3, 47.8]\n",
    "Fahrenheit = list(map(lambda x: (9.0/5)*x + 32, Celsius))\n",
    "print(Fahrenheit)"
   ]
  },
  {
   "cell_type": "code",
   "execution_count": 10,
   "metadata": {},
   "outputs": [
    {
     "name": "stdout",
     "output_type": "stream",
     "text": [
      "['e', 'o', 'e', 'o', 'A', 'a', 'i']\n"
     ]
    }
   ],
   "source": [
    "#3) The function filter(function, list) filters out all the elements of a list, for which the function \n",
    "    #function returns True.\n",
    "#The function filter(f,l) needs a function f as its first argument. f returns a Boolean value, \n",
    "#i.e. either True or False. This function will be applied to every element of the list l. \n",
    "#Only if f returns True will the element of the list be included in the result list\n",
    "# Q. print the letters that are vowels using filter and lambda functions\n",
    "sample_string = \"Welcome to AcadGild\"\n",
    "\n",
    "sentence = \"Welcome to AcadGild\"\n",
    "vowels = \"aeiouAEIOU\"\n",
    "finalVowel = []\n",
    "\n",
    "\n",
    "isVowel = lambda arg: arg in vowels\n",
    "\n",
    "def vowelFilter(sentence):\n",
    "    for letter in sentence:\n",
    "        if isVowel(letter):  \n",
    "            finalVowel.append(letter)\n",
    "    return finalVowel\n",
    "\n",
    "print (vowelFilter(sentence))"
   ]
  },
  {
   "cell_type": "code",
   "execution_count": 21,
   "metadata": {},
   "outputs": [
    {
     "name": "stdout",
     "output_type": "stream",
     "text": [
      "WelcometoacadGild\n"
     ]
    }
   ],
   "source": [
    "#4) Use generator expression to print out only alphabets from the following string\n",
    "#string = \"123@Welc34ometo12@ac#adGild\"\n",
    "\n",
    "string = \"123@Welc34ometo12@ac#adGild\"\n",
    "v = [x for x in string if x.isalpha()]\n",
    "val = ''.join(v)\n",
    "print(val)"
   ]
  },
  {
   "cell_type": "code",
   "execution_count": 20,
   "metadata": {},
   "outputs": [
    {
     "name": "stdout",
     "output_type": "stream",
     "text": [
      "['Feburary']\n"
     ]
    }
   ],
   "source": [
    "# 5) Implement a function longestWord() that takes a list of words and returns the longest one.\n",
    "#initialise the list\n",
    "\n",
    "word= [\"January\",\"Feburary\",\"March\",\"April\",\"May\",\"June\",\"July\"]\n",
    "def longestWord(arg_word):\n",
    "    max_len = len(max(word , key=len))\n",
    "    return [x for x in arg_word if len(x) == max_len]\n",
    "print(longestWord(word))"
   ]
  }
 ],
 "metadata": {
  "kernelspec": {
   "display_name": "Python 3",
   "language": "python",
   "name": "python3"
  },
  "language_info": {
   "codemirror_mode": {
    "name": "ipython",
    "version": 3
   },
   "file_extension": ".py",
   "mimetype": "text/x-python",
   "name": "python",
   "nbconvert_exporter": "python",
   "pygments_lexer": "ipython3",
   "version": "3.7.0"
  }
 },
 "nbformat": 4,
 "nbformat_minor": 2
}
